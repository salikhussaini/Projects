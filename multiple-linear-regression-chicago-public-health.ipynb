{
 "cells": [
  {
   "cell_type": "code",
   "execution_count": 1,
   "metadata": {
    "_cell_guid": "b1076dfc-b9ad-4769-8c92-a6c4dae69d19",
    "_uuid": "8f2839f25d086af736a60e9eeb907d3b93b6e0e5"
   },
   "outputs": [
    {
     "name": "stdout",
     "output_type": "stream",
     "text": [
      "/kaggle/input/chicago-public-health-statistics/Dataset_Description_TEEN_Births.pdf\n",
      "/kaggle/input/chicago-public-health-statistics/socrata_metadata_public-health-statistics-gonorrhea-cases-for-females-aged-15-44-in-chicago-by-year-2000-2014.json\n",
      "/kaggle/input/chicago-public-health-statistics/socrata_metadata_public-health-statistics-general-fertility-rates-in-chicago-by-year-1999-2009.json\n",
      "/kaggle/input/chicago-public-health-statistics/socrata_metadata_public-health-statistics-prenatal-care-in-chicago-by-year-1999-2009.json\n",
      "/kaggle/input/chicago-public-health-statistics/public-health-statistics-gonorrhea-cases-for-females-aged-15-44-in-chicago-by-year-2000-2014.csv\n",
      "/kaggle/input/chicago-public-health-statistics/public-health-statistics-chlamydia-cases-among-females-aged-15-44-in-chicago-by-year-2000-2014..csv\n",
      "/kaggle/input/chicago-public-health-statistics/public-health-statistics-diabetes-hospitalizations-in-chicago-2000-2011.csv\n",
      "/kaggle/input/chicago-public-health-statistics/public-health-statistics-prenatal-care-in-chicago-by-year-1999-2009.csv\n",
      "/kaggle/input/chicago-public-health-statistics/public-health-statistics-tuberculosis-cases-and-average-annual-incidence-rate-chicago-2007-2011.csv\n",
      "/kaggle/input/chicago-public-health-statistics/public-health-statistics-infant-mortality-in-chicago-2005-2009.csv\n",
      "/kaggle/input/chicago-public-health-statistics/CHLAMYDIA_FEMALES_AGED_15_44_2000_2014_Dataset_Description.pdf\n",
      "/kaggle/input/chicago-public-health-statistics/Dataset_Description_Preterm_Births.pdf\n",
      "/kaggle/input/chicago-public-health-statistics/public-health-statistics-preterm-births-in-chicago-by-year-1999-2009.csv\n",
      "/kaggle/input/chicago-public-health-statistics/Dataset_Description_Diabetes_Hospitalization.pdf\n",
      "/kaggle/input/chicago-public-health-statistics/socrata_metadata_public-health-statistics-life-expectancy-by-community-area.json\n",
      "/kaggle/input/chicago-public-health-statistics/socrata_metadata_public-health-statistics-births-and-birth-rates-in-chicago-by-year-1999-2009.json\n",
      "/kaggle/input/chicago-public-health-statistics/Dataset_Description_LBW.pdf\n",
      "/kaggle/input/chicago-public-health-statistics/public-health-statistics-births-to-mothers-aged-15-19-years-old-in-chicago-by-year-1999-2009.csv\n",
      "/kaggle/input/chicago-public-health-statistics/public-health-statistics-general-fertility-rates-in-chicago-by-year-1999-2009.csv\n",
      "/kaggle/input/chicago-public-health-statistics/Dataset_Description_Birth_Rates.pdf\n",
      "/kaggle/input/chicago-public-health-statistics/socrata_metadata_public-health-statistics-births-to-mothers-aged-15-19-years-old-in-chicago-by-year-1999-2009.json\n",
      "/kaggle/input/chicago-public-health-statistics/public-health-statistics-births-and-birth-rates-in-chicago-by-year-1999-2009.csv\n",
      "/kaggle/input/chicago-public-health-statistics/public-health-statistics-screening-for-elevated-blood-lead-levels-in-children-aged-0-6-years-by-year-chicago-1999-2013.csv\n",
      "/kaggle/input/chicago-public-health-statistics/socrata_metadata_public-health-statistics-diabetes-hospitalizations-in-chicago-2000-2011.json\n",
      "/kaggle/input/chicago-public-health-statistics/PEPIOEPHIMATERIALSREFERENCESLEAD_POISONINGDataset_Description_BloodLeadTesting_1999-2013.pdf\n",
      "/kaggle/input/chicago-public-health-statistics/public-health-statistics-selected-underlying-causes-of-death-in-chicago-2006-2010.csv\n",
      "/kaggle/input/chicago-public-health-statistics/public-health-statistics-asthma-hospitalizations-in-chicago-by-year-2000-2011.csv\n",
      "/kaggle/input/chicago-public-health-statistics/socrata_metadata_public-health-statistics-asthma-hospitalizations-in-chicago-by-year-2000-2011.json\n",
      "/kaggle/input/chicago-public-health-statistics/public-health-statistics-life-expectancy-by-community-area.csv\n",
      "/kaggle/input/chicago-public-health-statistics/socrata_metadata_public-health-statistics-selected-public-health-indicators-by-chicago-community-area.json\n",
      "/kaggle/input/chicago-public-health-statistics/socrata_metadata_public-health-statistics-low-birth-weight-in-chicago-by-year-1999-2009.json\n",
      "/kaggle/input/chicago-public-health-statistics/socrata_metadata_public-health-statistics-chlamydia-cases-among-females-aged-15-44-in-chicago-by-year-2000-2014..json\n",
      "/kaggle/input/chicago-public-health-statistics/public-health-statistics-selected-public-health-indicators-by-chicago-community-area.csv\n",
      "/kaggle/input/chicago-public-health-statistics/PEPIOEPHIMATERIALSREFERENCESMORTALITYDataset_Description_06_10_PORTAL_ONLY.pdf\n",
      "/kaggle/input/chicago-public-health-statistics/GONORRHEA_FEMALES_AGED_15_44_2000_2014_Dataset_Description.pdf\n",
      "/kaggle/input/chicago-public-health-statistics/socrata_metadata_public-health-statistics-tuberculosis-cases-and-average-annual-incidence-rate-chicago-2007-2011.json\n",
      "/kaggle/input/chicago-public-health-statistics/Dataset_Description_Asthma_Hospitalization_PORTAL_ONLY.pdf\n",
      "/kaggle/input/chicago-public-health-statistics/Dataset_Description_Fertility.pdf\n",
      "/kaggle/input/chicago-public-health-statistics/socrata_metadata_public-health-statistics-infant-mortality-in-chicago-2005-2009.json\n",
      "/kaggle/input/chicago-public-health-statistics/public-health-statistics-low-birth-weight-in-chicago-by-year-1999-2009.csv\n",
      "/kaggle/input/chicago-public-health-statistics/Dataset_description_Infant_Mortality_2005_2009_PORTAL_ONLY.pdf\n",
      "/kaggle/input/chicago-public-health-statistics/PEPIOEPHIMATERIALSREFERENCESLife ExpectancyDataset description - LE by community area.pdf\n",
      "/kaggle/input/chicago-public-health-statistics/Dataset_Description_Selected_indicators_file_PORTAL.pdf\n",
      "/kaggle/input/chicago-public-health-statistics/Dataset_Description_Tuberculosis.pdf\n",
      "/kaggle/input/chicago-public-health-statistics/socrata_metadata_public-health-statistics-screening-for-elevated-blood-lead-levels-in-children-aged-0-6-years-by-year-chicago-1999-2013.json\n",
      "/kaggle/input/chicago-public-health-statistics/socrata_metadata_public-health-statistics-selected-underlying-causes-of-death-in-chicago-2006-2010.json\n",
      "/kaggle/input/chicago-public-health-statistics/socrata_metadata_public-health-statistics-preterm-births-in-chicago-by-year-1999-2009.json\n",
      "/kaggle/input/chicago-public-health-statistics/Dataset_Description_Prenatal.pdf\n"
     ]
    }
   ],
   "source": [
    "# This Python 3 environment comes with many helpful analytics libraries installed\n",
    "# It is defined by the kaggle/python docker image: https://github.com/kaggle/docker-python\n",
    "# For example, here's several helpful packages to load in \n",
    "\n",
    "import numpy as np # linear algebra\n",
    "import pandas as pd # data processing, CSV file I/O (e.g. pd.read_csv)\n",
    "\n",
    "# Input data files are available in the \"../input/\" directory.\n",
    "# For example, running this (by clicking run or pressing Shift+Enter) will list all files under the input directory\n",
    "\n",
    "import os\n",
    "for dirname, _, filenames in os.walk('/kaggle/input'):\n",
    "    for filename in filenames:\n",
    "        print(os.path.join(dirname, filename))\n",
    "\n",
    "# Any results you write to the current directory are saved as output."
   ]
  },
  {
   "cell_type": "code",
   "execution_count": 2,
   "metadata": {
    "_cell_guid": "79c7e3d0-c299-4dcb-8224-4455121ee9b0",
    "_uuid": "d629ff2d2480ee46fbb7e2d37f6b5fab8052498a"
   },
   "outputs": [],
   "source": [
    "import matplotlib.pyplot as plt\n",
    "import pandas as pd\n",
    "import numpy as np\n",
    "import seaborn as sns\n",
    "\n",
    "\n",
    "\n",
    "from sklearn.model_selection import train_test_split\n",
    "from sklearn.linear_model import LinearRegression\n",
    "from sklearn.metrics import mean_squared_error\n",
    "\n",
    "from statsmodels.api import OLS"
   ]
  },
  {
   "cell_type": "code",
   "execution_count": 3,
   "metadata": {},
   "outputs": [
    {
     "data": {
      "text/html": [
       "<div>\n",
       "<style scoped>\n",
       "    .dataframe tbody tr th:only-of-type {\n",
       "        vertical-align: middle;\n",
       "    }\n",
       "\n",
       "    .dataframe tbody tr th {\n",
       "        vertical-align: top;\n",
       "    }\n",
       "\n",
       "    .dataframe thead th {\n",
       "        text-align: right;\n",
       "    }\n",
       "</style>\n",
       "<table border=\"1\" class=\"dataframe\">\n",
       "  <thead>\n",
       "    <tr style=\"text-align: right;\">\n",
       "      <th></th>\n",
       "      <th>Community Area</th>\n",
       "      <th>Community Area Name</th>\n",
       "      <th>Birth Rate</th>\n",
       "      <th>General Fertility Rate</th>\n",
       "      <th>Low Birth Weight</th>\n",
       "      <th>Prenatal Care Beginning in First Trimester</th>\n",
       "      <th>Preterm Births</th>\n",
       "      <th>Teen Birth Rate</th>\n",
       "      <th>Assault (Homicide)</th>\n",
       "      <th>Breast cancer in females</th>\n",
       "      <th>...</th>\n",
       "      <th>Childhood Lead Poisoning</th>\n",
       "      <th>Gonorrhea in Females</th>\n",
       "      <th>Gonorrhea in Males</th>\n",
       "      <th>Tuberculosis</th>\n",
       "      <th>Below Poverty Level</th>\n",
       "      <th>Crowded Housing</th>\n",
       "      <th>Dependency</th>\n",
       "      <th>No High School Diploma</th>\n",
       "      <th>Per Capita Income</th>\n",
       "      <th>Unemployment</th>\n",
       "    </tr>\n",
       "  </thead>\n",
       "  <tbody>\n",
       "    <tr>\n",
       "      <th>0</th>\n",
       "      <td>1</td>\n",
       "      <td>Rogers Park</td>\n",
       "      <td>16.4</td>\n",
       "      <td>62.0</td>\n",
       "      <td>11.0</td>\n",
       "      <td>73.0</td>\n",
       "      <td>11.2</td>\n",
       "      <td>40.8</td>\n",
       "      <td>7.7</td>\n",
       "      <td>23.3</td>\n",
       "      <td>...</td>\n",
       "      <td>0.5</td>\n",
       "      <td>322.5</td>\n",
       "      <td>423.3</td>\n",
       "      <td>11.4</td>\n",
       "      <td>22.7</td>\n",
       "      <td>7.9</td>\n",
       "      <td>28.8</td>\n",
       "      <td>18.1</td>\n",
       "      <td>23714</td>\n",
       "      <td>7.5</td>\n",
       "    </tr>\n",
       "    <tr>\n",
       "      <th>1</th>\n",
       "      <td>2</td>\n",
       "      <td>West Ridge</td>\n",
       "      <td>17.3</td>\n",
       "      <td>83.3</td>\n",
       "      <td>8.1</td>\n",
       "      <td>71.1</td>\n",
       "      <td>8.3</td>\n",
       "      <td>29.9</td>\n",
       "      <td>5.8</td>\n",
       "      <td>20.2</td>\n",
       "      <td>...</td>\n",
       "      <td>1.0</td>\n",
       "      <td>141.0</td>\n",
       "      <td>205.7</td>\n",
       "      <td>8.9</td>\n",
       "      <td>15.1</td>\n",
       "      <td>7.0</td>\n",
       "      <td>38.3</td>\n",
       "      <td>19.6</td>\n",
       "      <td>21375</td>\n",
       "      <td>7.9</td>\n",
       "    </tr>\n",
       "    <tr>\n",
       "      <th>2</th>\n",
       "      <td>3</td>\n",
       "      <td>Uptown</td>\n",
       "      <td>13.1</td>\n",
       "      <td>50.5</td>\n",
       "      <td>8.3</td>\n",
       "      <td>77.7</td>\n",
       "      <td>10.3</td>\n",
       "      <td>35.1</td>\n",
       "      <td>5.4</td>\n",
       "      <td>21.3</td>\n",
       "      <td>...</td>\n",
       "      <td>0.5</td>\n",
       "      <td>170.8</td>\n",
       "      <td>468.7</td>\n",
       "      <td>13.6</td>\n",
       "      <td>22.7</td>\n",
       "      <td>4.6</td>\n",
       "      <td>22.2</td>\n",
       "      <td>13.6</td>\n",
       "      <td>32355</td>\n",
       "      <td>7.7</td>\n",
       "    </tr>\n",
       "    <tr>\n",
       "      <th>3</th>\n",
       "      <td>4</td>\n",
       "      <td>Lincoln Square</td>\n",
       "      <td>17.1</td>\n",
       "      <td>61.0</td>\n",
       "      <td>8.1</td>\n",
       "      <td>80.5</td>\n",
       "      <td>9.7</td>\n",
       "      <td>38.4</td>\n",
       "      <td>5.0</td>\n",
       "      <td>21.7</td>\n",
       "      <td>...</td>\n",
       "      <td>0.4</td>\n",
       "      <td>98.8</td>\n",
       "      <td>195.5</td>\n",
       "      <td>8.5</td>\n",
       "      <td>9.5</td>\n",
       "      <td>3.1</td>\n",
       "      <td>25.6</td>\n",
       "      <td>12.5</td>\n",
       "      <td>35503</td>\n",
       "      <td>6.8</td>\n",
       "    </tr>\n",
       "    <tr>\n",
       "      <th>4</th>\n",
       "      <td>5</td>\n",
       "      <td>North Center</td>\n",
       "      <td>22.4</td>\n",
       "      <td>76.2</td>\n",
       "      <td>9.1</td>\n",
       "      <td>80.4</td>\n",
       "      <td>9.8</td>\n",
       "      <td>8.4</td>\n",
       "      <td>1.0</td>\n",
       "      <td>16.6</td>\n",
       "      <td>...</td>\n",
       "      <td>0.9</td>\n",
       "      <td>85.4</td>\n",
       "      <td>188.6</td>\n",
       "      <td>1.9</td>\n",
       "      <td>7.1</td>\n",
       "      <td>0.2</td>\n",
       "      <td>25.5</td>\n",
       "      <td>5.4</td>\n",
       "      <td>51615</td>\n",
       "      <td>4.5</td>\n",
       "    </tr>\n",
       "  </tbody>\n",
       "</table>\n",
       "<p>5 rows × 29 columns</p>\n",
       "</div>"
      ],
      "text/plain": [
       "   Community Area Community Area Name  Birth Rate  General Fertility Rate  \\\n",
       "0               1         Rogers Park        16.4                    62.0   \n",
       "1               2          West Ridge        17.3                    83.3   \n",
       "2               3              Uptown        13.1                    50.5   \n",
       "3               4      Lincoln Square        17.1                    61.0   \n",
       "4               5        North Center        22.4                    76.2   \n",
       "\n",
       "   Low Birth Weight  Prenatal Care Beginning in First Trimester  \\\n",
       "0              11.0                                        73.0   \n",
       "1               8.1                                        71.1   \n",
       "2               8.3                                        77.7   \n",
       "3               8.1                                        80.5   \n",
       "4               9.1                                        80.4   \n",
       "\n",
       "   Preterm Births  Teen Birth Rate  Assault (Homicide)  \\\n",
       "0            11.2             40.8                 7.7   \n",
       "1             8.3             29.9                 5.8   \n",
       "2            10.3             35.1                 5.4   \n",
       "3             9.7             38.4                 5.0   \n",
       "4             9.8              8.4                 1.0   \n",
       "\n",
       "   Breast cancer in females  ...  Childhood Lead Poisoning  \\\n",
       "0                      23.3  ...                       0.5   \n",
       "1                      20.2  ...                       1.0   \n",
       "2                      21.3  ...                       0.5   \n",
       "3                      21.7  ...                       0.4   \n",
       "4                      16.6  ...                       0.9   \n",
       "\n",
       "   Gonorrhea in Females  Gonorrhea in Males  Tuberculosis  \\\n",
       "0                 322.5               423.3          11.4   \n",
       "1                 141.0               205.7           8.9   \n",
       "2                 170.8               468.7          13.6   \n",
       "3                  98.8               195.5           8.5   \n",
       "4                  85.4               188.6           1.9   \n",
       "\n",
       "   Below Poverty Level  Crowded Housing  Dependency  No High School Diploma  \\\n",
       "0                 22.7              7.9        28.8                    18.1   \n",
       "1                 15.1              7.0        38.3                    19.6   \n",
       "2                 22.7              4.6        22.2                    13.6   \n",
       "3                  9.5              3.1        25.6                    12.5   \n",
       "4                  7.1              0.2        25.5                     5.4   \n",
       "\n",
       "   Per Capita Income  Unemployment  \n",
       "0              23714           7.5  \n",
       "1              21375           7.9  \n",
       "2              32355           7.7  \n",
       "3              35503           6.8  \n",
       "4              51615           4.5  \n",
       "\n",
       "[5 rows x 29 columns]"
      ]
     },
     "execution_count": 3,
     "metadata": {},
     "output_type": "execute_result"
    }
   ],
   "source": [
    "df = pd.read_csv(\"../input/chicago-public-health-statistics/public-health-statistics-selected-public-health-indicators-by-chicago-community-area.csv\")\n",
    "df.head(5)"
   ]
  },
  {
   "cell_type": "code",
   "execution_count": 4,
   "metadata": {},
   "outputs": [
    {
     "data": {
      "text/plain": [
       "Community Area                                  int64\n",
       "Community Area Name                            object\n",
       "Birth Rate                                    float64\n",
       "General Fertility Rate                        float64\n",
       "Low Birth Weight                              float64\n",
       "Prenatal Care Beginning in First Trimester    float64\n",
       "Preterm Births                                float64\n",
       "Teen Birth Rate                               float64\n",
       "Assault (Homicide)                            float64\n",
       "Breast cancer in females                      float64\n",
       "Cancer (All Sites)                            float64\n",
       "Colorectal Cancer                             float64\n",
       "Diabetes-related                              float64\n",
       "Firearm-related                               float64\n",
       "Infant Mortality Rate                         float64\n",
       "Lung Cancer                                   float64\n",
       "Prostate Cancer in Males                      float64\n",
       "Stroke (Cerebrovascular Disease)              float64\n",
       "Childhood Blood Lead Level Screening          float64\n",
       "Childhood Lead Poisoning                      float64\n",
       "Gonorrhea in Females                          float64\n",
       "Gonorrhea in Males                             object\n",
       "Tuberculosis                                  float64\n",
       "Below Poverty Level                           float64\n",
       "Crowded Housing                               float64\n",
       "Dependency                                    float64\n",
       "No High School Diploma                        float64\n",
       "Per Capita Income                               int64\n",
       "Unemployment                                  float64\n",
       "dtype: object"
      ]
     },
     "execution_count": 4,
     "metadata": {},
     "output_type": "execute_result"
    }
   ],
   "source": [
    "df.dtypes"
   ]
  },
  {
   "cell_type": "code",
   "execution_count": null,
   "metadata": {},
   "outputs": [],
   "source": []
  },
  {
   "cell_type": "code",
   "execution_count": 5,
   "metadata": {},
   "outputs": [],
   "source": [
    "x = df[['Birth Rate',\n",
    "       'General Fertility Rate', 'Low Birth Weight',\n",
    "       'Prenatal Care Beginning in First Trimester', 'Preterm Births',\n",
    "       'Teen Birth Rate', 'Assault (Homicide)', 'Breast cancer in females',\n",
    "       'Cancer (All Sites)', 'Colorectal Cancer', 'Diabetes-related',\n",
    "       'Firearm-related', 'Infant Mortality Rate', 'Lung Cancer',\n",
    "       'Prostate Cancer in Males', 'Stroke (Cerebrovascular Disease)',\n",
    "       'Childhood Blood Lead Level Screening', 'Childhood Lead Poisoning',\n",
    "       'Gonorrhea in Females', 'Tuberculosis',\n",
    "       'Below Poverty Level', 'Crowded Housing', 'Dependency',\n",
    "       'No High School Diploma']]\n",
    "x.dtypes\n",
    "x = x.fillna(x.mean())"
   ]
  },
  {
   "cell_type": "code",
   "execution_count": 6,
   "metadata": {},
   "outputs": [],
   "source": [
    "y = df[['Unemployment']]\n",
    "y = y.fillna(y.mean())"
   ]
  },
  {
   "cell_type": "code",
   "execution_count": 7,
   "metadata": {},
   "outputs": [
    {
     "data": {
      "text/plain": [
       "<matplotlib.axes._subplots.AxesSubplot at 0x7fbff0b4b320>"
      ]
     },
     "execution_count": 7,
     "metadata": {},
     "output_type": "execute_result"
    },
    {
     "data": {
      "image/png": "[encoded data removed]",
      "text/plain": [
       "<Figure size 432x288 with 2 Axes>"
      ]
     },
     "metadata": {
      "needs_background": "light"
     },
     "output_type": "display_data"
    }
   ],
   "source": [
    "sns.heatmap(x, cmap=\"Greens\")\n"
   ]
  },
  {
   "cell_type": "code",
   "execution_count": 8,
   "metadata": {},
   "outputs": [],
   "source": [
    "x_train, x_test, y_train, y_test = train_test_split(\n",
    "    x, y, train_size = 0.8, test_size = 0.2, random_state=6)"
   ]
  },
  {
   "cell_type": "code",
   "execution_count": 9,
   "metadata": {},
   "outputs": [],
   "source": [
    "lm = LinearRegression()\n",
    "\n",
    "model = lm.fit(x_train, y_train)\n",
    "\n",
    "y_predict= lm.predict(x_test)"
   ]
  },
  {
   "cell_type": "code",
   "execution_count": 10,
   "metadata": {},
   "outputs": [
    {
     "name": "stdout",
     "output_type": "stream",
     "text": [
      "Train score:\n",
      "0.9409105627772755\n"
     ]
    }
   ],
   "source": [
    "print(\"Train score:\")\n",
    "print(lm.score(x_train, y_train))\n"
   ]
  },
  {
   "cell_type": "code",
   "execution_count": 11,
   "metadata": {},
   "outputs": [
    {
     "data": {
      "image/png": "[encoded data removed]",
      "text/plain": [
       "<Figure size 432x288 with 1 Axes>"
      ]
     },
     "metadata": {
      "needs_background": "light"
     },
     "output_type": "display_data"
    }
   ],
   "source": [
    "plt.scatter(y_test, y_predict)\n",
    "plt.plot(range(35), range(35))\n",
    "\n",
    "plt.xlabel(\"Unemployment: $Y_i$\")\n",
    "plt.ylabel(\"Predicted Unemployment: $\\hat{Y}_i$\")\n",
    "plt.title(\"Actual Unemployment vs Predicted Unemployment\")\n",
    "\n",
    "plt.show()"
   ]
  },
  {
   "cell_type": "code",
   "execution_count": 12,
   "metadata": {},
   "outputs": [
    {
     "name": "stdout",
     "output_type": "stream",
     "text": [
      "[0.52025721] [[ 0.15760361 -0.10722573  0.13407969  0.00308648 -0.12530306  0.04199812\n",
      "   0.3300391   0.07641243 -0.04027806 -0.27243817 -0.00454211 -0.37713187\n",
      "   0.2449973   0.20825248  0.00917521 -0.01815359 -0.00275405  0.51377487\n",
      "   0.00121228 -0.16917247  0.15434959 -0.2626662   0.30053925  0.15245195]] Unemployment    2.783154\n",
      "dtype: float64\n",
      "0.9409105627772755\n"
     ]
    }
   ],
   "source": [
    "# Make predictions\n",
    "expected = y_train\n",
    "predicted = model.predict(x_train)\n",
    "# Summarize the fit of the model\n",
    "mse = np.mean((predicted-expected)**2)\n",
    "print (model.intercept_, model.coef_, mse) \n",
    "print(model.score(x_train, y_train))"
   ]
  }
 ],
 "metadata": {
  "kernelspec": {
   "display_name": "Python 3",
   "language": "python",
   "name": "python3"
  },
  "language_info": {
   "codemirror_mode": {
    "name": "ipython",
    "version": 3
   },
   "file_extension": ".py",
   "mimetype": "text/x-python",
   "name": "python",
   "nbconvert_exporter": "python",
   "pygments_lexer": "ipython3",
   "version": "3.6.6"
  }
 },
 "nbformat": 4,
 "nbformat_minor": 1
}
